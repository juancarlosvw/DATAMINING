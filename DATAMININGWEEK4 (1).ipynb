{
 "cells": [
  {
   "cell_type": "code",
   "execution_count": 1,
   "id": "0e431cb7",
   "metadata": {},
   "outputs": [
    {
     "name": "stdout",
     "output_type": "stream",
     "text": [
      "0\n",
      "1\n",
      "1\n",
      "2\n",
      "3\n",
      "5\n",
      "8\n",
      "13\n",
      "21\n",
      "34\n"
     ]
    }
   ],
   "source": [
    "def fibonacci(n):\n",
    "    if n <= 1:\n",
    "        return n\n",
    "    else:\n",
    "        return fibonacci(n-1) + fibonacci(n-2)\n",
    "\n",
    "# Contoh penggunaan\n",
    "n = 10\n",
    "for i in range(n):\n",
    "    print(fibonacci(i))\n",
    "#fibo"
   ]
  },
  {
   "cell_type": "code",
   "execution_count": 2,
   "id": "85d16d2f",
   "metadata": {},
   "outputs": [
    {
     "name": "stdout",
     "output_type": "stream",
     "text": [
      "Faktorial dari 5 adalah 120\n"
     ]
    }
   ],
   "source": [
    "def factorial(n):\n",
    "    if n == 0:\n",
    "        return 1\n",
    "    else:\n",
    "        return n * factorial(n-1)\n",
    "\n",
    "# Contoh penggunaan\n",
    "n = 5\n",
    "print(f\"Faktorial dari {n} adalah {factorial(n)}\")\n",
    "#faktorial"
   ]
  },
  {
   "cell_type": "code",
   "execution_count": 3,
   "id": "a0fb5c0f",
   "metadata": {},
   "outputs": [
    {
     "name": "stdout",
     "output_type": "stream",
     "text": [
      "Entropy: 0.9403\n"
     ]
    }
   ],
   "source": [
    "import math\n",
    "\n",
    "def entropy(probabilities):\n",
    "    return -sum([p * math.log2(p) for p in probabilities if p > 0])\n",
    "\n",
    "# Contoh penggunaan (2 kelas: 9 positif, 5 negatif)\n",
    "total = 14\n",
    "positive = 9\n",
    "negative = 5\n",
    "\n",
    "# Probabilitas masing-masing kelas\n",
    "p_positive = positive / total\n",
    "p_negative = negative / total\n",
    "\n",
    "# Hitung entropy\n",
    "print(f\"Entropy: {entropy([p_positive, p_negative]):.4f}\")\n"
   ]
  },
  {
   "cell_type": "code",
   "execution_count": 4,
   "id": "aa82c04f",
   "metadata": {},
   "outputs": [
    {
     "name": "stdout",
     "output_type": "stream",
     "text": [
      "Gini Index: 0.4592\n"
     ]
    }
   ],
   "source": [
    "def gini(probabilities):\n",
    "    return 1 - sum([p ** 2 for p in probabilities])\n",
    "\n",
    "# Hitung Gini index\n",
    "print(f\"Gini Index: {gini([p_positive, p_negative]):.4f}\")\n"
   ]
  },
  {
   "cell_type": "code",
   "execution_count": 5,
   "id": "6498410f",
   "metadata": {},
   "outputs": [
    {
     "name": "stdout",
     "output_type": "stream",
     "text": [
      "Classification Error: 0.3571\n"
     ]
    }
   ],
   "source": [
    "def classification_error(probabilities):\n",
    "    return 1 - max(probabilities)\n",
    "\n",
    "# Hitung classification error\n",
    "print(f\"Classification Error: {classification_error([p_positive, p_negative]):.4f}\")\n"
   ]
  },
  {
   "cell_type": "code",
   "execution_count": 6,
   "id": "38879249",
   "metadata": {},
   "outputs": [
    {
     "name": "stdout",
     "output_type": "stream",
     "text": [
      "Hasil penjumlahan elemen array x: 15\n"
     ]
    }
   ],
   "source": [
    "import numpy as np\n",
    "\n",
    "# Fungsi untuk menjumlahkan elemen array\n",
    "def sum_array(arr):\n",
    "    return np.sum(arr)\n",
    "\n",
    "# Array x\n",
    "x = np.array([1, 2, 3, 4, 5])\n",
    "\n",
    "# Menggunakan fungsi untuk menghitung jumlah elemen\n",
    "y = sum_array(x)\n",
    "print(f\"Hasil penjumlahan elemen array x: {y}\")\n"
   ]
  },
  {
   "cell_type": "code",
   "execution_count": 7,
   "id": "f0fe2fa2",
   "metadata": {},
   "outputs": [
    {
     "name": "stdout",
     "output_type": "stream",
     "text": [
      "Array setelah dikuadratkan: [ 4  9 16 25]\n"
     ]
    }
   ],
   "source": [
    "# Fungsi untuk mengkuadratkan setiap elemen array\n",
    "def square_array(arr):\n",
    "    return arr**2\n",
    "\n",
    "# Array x\n",
    "x = np.array([2, 3, 4, 5])\n",
    "\n",
    "# Menggunakan fungsi untuk menghitung kuadrat\n",
    "y = square_array(x)\n",
    "print(f\"Array setelah dikuadratkan: {y}\")\n"
   ]
  },
  {
   "cell_type": "code",
   "execution_count": 8,
   "id": "efc0cf22",
   "metadata": {},
   "outputs": [
    {
     "name": "stdout",
     "output_type": "stream",
     "text": [
      "Hasil persamaan linear untuk setiap elemen array: [ 5  7  9 11]\n"
     ]
    }
   ],
   "source": [
    "# Fungsi untuk menghitung persamaan linear\n",
    "def linear_equation(arr):\n",
    "    return 2 * arr + 3\n",
    "\n",
    "# Array x\n",
    "x = np.array([1, 2, 3, 4])\n",
    "\n",
    "# Menggunakan fungsi untuk menghitung persamaan linear\n",
    "y = linear_equation(x)\n",
    "print(f\"Hasil persamaan linear untuk setiap elemen array: {y}\")\n"
   ]
  }
 ],
 "metadata": {
  "kernelspec": {
   "display_name": "Python 3 (ipykernel)",
   "language": "python",
   "name": "python3"
  },
  "language_info": {
   "codemirror_mode": {
    "name": "ipython",
    "version": 3
   },
   "file_extension": ".py",
   "mimetype": "text/x-python",
   "name": "python",
   "nbconvert_exporter": "python",
   "pygments_lexer": "ipython3",
   "version": "3.11.4"
  }
 },
 "nbformat": 4,
 "nbformat_minor": 5
}
