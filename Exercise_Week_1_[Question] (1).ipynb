{
 "cells": [
  {
   "cell_type": "markdown",
   "metadata": {
    "id": "re8S5yd8u1eZ"
   },
   "source": [
    "<h2> Python Basics"
   ]
  },
  {
   "cell_type": "markdown",
   "metadata": {
    "id": "5H441cQou1ee"
   },
   "source": [
    "I. Cobalah print kalimat \"Hello, my name is ***nama anda***\" dengan minimal 2 cara: <br>\n",
    "a.   Print biasa (nama diletakkan langsung dalam string yang di print)<br>\n",
    "b.  Menggunakan variabel (nama disimpan dulu di variabel)<br>\n",
    "c.  Menggunakan operator dan variabel<br>\n",
    "d.  Menggunakan .format()"
   ]
  },
  {
   "cell_type": "code",
   "execution_count": 4,
   "metadata": {
    "colab": {
     "base_uri": "https://localhost:8080/"
    },
    "id": "EJlHc6Ptu1ef",
    "outputId": "f486da89-de85-4004-decd-9cb30b6c04a6"
   },
   "outputs": [
    {
     "name": "stdout",
     "output_type": "stream",
     "text": [
      "Hello,my name is juan carlos\n",
      "Hello,my name is juancarlos\n"
     ]
    }
   ],
   "source": [
    "print(\"Hello,my name is juan carlos\")\n",
    "nama=\"juancarlos\"\n",
    "print(\"Hello,my name is \" + nama)"
   ]
  },
  {
   "cell_type": "markdown",
   "metadata": {
    "id": "ykD_f9Cfu1eg"
   },
   "source": [
    "II. Selesaikan soal cerita berikut menggunakan python:<br>\n",
    "a.  Jose membeli 4 kotak kelereng, tiap kotak berisi 15 buah kelereng. Kelereng itu akan dibagikan kepada 12 orang temannya, setiap teman akan mendapat ... kelereng.<br>\n",
    "b.  Hasil dari 8 pangkat 1/3 adalah ...<br>\n",
    "c.  Eillen memiliki uang sebesar Rp 50.000 untuk dibelanjakan kertas binder, 1 paket kertas binder isi 100 lembar dijual seharga 7500, jika ia ingin membeli berapa kertas binder yang dapat ia beli dengan uang yang ia punya? Berapa kembalian yang diterima?"
   ]
  },
  {
   "cell_type": "code",
   "execution_count": 17,
   "metadata": {},
   "outputs": [
    {
     "name": "stdout",
     "output_type": "stream",
     "text": [
      "a. 5 \n",
      "b. 2.00\n",
      "c. 600 \n",
      " Rp5000\n"
     ]
    }
   ],
   "source": [
    "\n",
    "jumlah_kotak = 4\n",
    "kelereng_perkotak = 15\n",
    "total_kelereng = jumlah_kotak * kelereng_perkotak\n",
    "\n",
    "jumlah_teman = 12\n",
    "\n",
    "\n",
    "kelereng_perorang = total_kelereng // jumlah_teman\n",
    "print(f\"a. {kelereng_perorang} \") \n",
    "\n",
    "\n",
    "hasil = 8 ** (1/3)\n",
    "print(f\"b. {hasil:.2f}\")  \n",
    "\n",
    "\n",
    "uangeillen = 50000\n",
    "\n",
    "\n",
    "harga_perpaket = 7500\n",
    "\n",
    "\n",
    "jumlah_paket = uangeillen // harga_perpaket\n",
    "\n",
    "total_kertas = jumlah_paket * 100\n",
    "\n",
    "kembalian = uang_eillen % harga_per_paket\n",
    "\n",
    "print(f\"c. {total_kertas} \")  \n",
    "print(f\" Rp{kembalian}\")  \n"
   ]
  },
  {
   "cell_type": "code",
   "execution_count": 6,
   "metadata": {
    "id": "HZMGFAk6u1eg"
   },
   "outputs": [
    {
     "name": "stdout",
     "output_type": "stream",
     "text": [
      "1000\n",
      "5\n",
      "5.0\n",
      "1000\n"
     ]
    }
   ],
   "source": [
    "\n",
    "\n",
    "string_value = \"1000\"\n",
    "int_value = int(string_value)\n",
    "print(int_value)  \n",
    "\n",
    "value = 5.25\n",
    "int_value = int(value)\n",
    "print(int_value)\n",
    "\n",
    "value = 5\n",
    "float_value = float(value)\n",
    "print(float_value)  \n",
    "\n",
    "value = 1000\n",
    "string_value = str(value)\n",
    "print(string_value)  \n",
    "\n",
    "\n"
   ]
  },
  {
   "cell_type": "markdown",
   "metadata": {
    "id": "ogSVphwKu1eh"
   },
   "source": [
    "III. Tunjukan cara untuk mengonversi tipe-tipe data berikut:\n",
    "\n",
    "1. \"1000\" -> 1000 (string ke int)\n",
    "2. 5.25 -> 5 (float ke int)\n",
    "3. 5 -> 5.0 (int ke float)\n",
    "4. 1000 -> \"1000\" (int ke string)\n",
    "\n",
    "Expected output:\n",
    "\n",
    "\n",
    "![image.png](data:image/png;base64,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)"
   ]
  },
  {
   "cell_type": "code",
   "execution_count": null,
   "metadata": {
    "colab": {
     "base_uri": "https://localhost:8080/"
    },
    "id": "1380euOQu1ei",
    "outputId": "ea0e27b8-a2fe-4f32-fe9c-af88a141e339"
   },
   "outputs": [
    {
     "name": "stdout",
     "output_type": "stream",
     "text": [
      "1000 <class 'int'>\n",
      "5 <class 'int'>\n",
      "5.0 <class 'float'>\n",
      "1000 <class 'str'>\n"
     ]
    }
   ],
   "source": []
  },
  {
   "cell_type": "markdown",
   "metadata": {
    "id": "DhXG-jySu1ej"
   },
   "source": [
    "IV. String\n",
    "\n",
    "\"If you want to know what a man's like, take a good look at how he treats his inferiors, not his equals.\"\n",
    "\n",
    "1. Tampilkan indeks ke 20 sampai 30 dari string di atas (indeks ke 30 ikut)\n",
    "2. Bagaimana cara memisah string berdasarkan spasi (simpan dalam list)\n",
    "3. Balik string di atas dengan menggunakan satu baris kode (menggunakan index)\n"
   ]
  },
  {
   "cell_type": "code",
   "execution_count": 8,
   "metadata": {
    "colab": {
     "base_uri": "https://localhost:8080/"
    },
    "id": "kUE0OZhIu1ek",
    "outputId": "48d3d702-9eed-4439-add7-04d5406ce928"
   },
   "outputs": [
    {
     "name": "stdout",
     "output_type": "stream",
     "text": [
      "what a man'\n",
      "['If', 'you', 'want', 'to', 'know', 'what', 'a', \"man's\", 'like,', 'take', 'a', 'good', 'look', 'at', 'how', 'he', 'treats', 'his', 'inferiors,', 'not', 'his', 'equals.']\n",
      ".slauqe sih ton ,sroirefni sih staert eh woh ta kool doog a ekat ,ekil s'nam a tahw wonk ot tnaw uoy fI\n"
     ]
    }
   ],
   "source": [
    "quote = \"If you want to know what a man's like, take a good look at how he treats his inferiors, not his equals.\"\n",
    "substring = quote[20:31]\n",
    "print(substring)  \n",
    "\n",
    "words_list = quote.split()\n",
    "print(words_list)\n",
    "\n",
    "\n",
    "reversed_quote = quote[::-1]\n",
    "print(reversed_quote)\n",
    "\n"
   ]
  },
  {
   "cell_type": "markdown",
   "metadata": {
    "id": "PFAMzNc6u1el"
   },
   "source": [
    "<h2> Python Data Strcutures"
   ]
  },
  {
   "cell_type": "markdown",
   "metadata": {
    "id": "m9AKxWKzu1el"
   },
   "source": [
    "I. Tuple\n",
    "\n",
    "\n",
    "1.   Buatlah sebuah tuple yang berisikan nama prodi di UC, simpan dalam variabel \"Prodi\".\n",
    "2.   Cetaklah panjang tuple yang dibuat.\n",
    "3.   Gunakan .index() untuk mengetahui posisi/index prodi ISB"
   ]
  },
  {
   "cell_type": "code",
   "execution_count": 21,
   "metadata": {
    "id": "sA1w4YBcu1em"
   },
   "outputs": [
    {
     "name": "stdout",
     "output_type": "stream",
     "text": [
      "Panjang tuple: 2\n",
      "Prodi ISB berada pada index: 0\n"
     ]
    }
   ],
   "source": [
    "prodi=(\"Information system\",\"informatics\")\n",
    "print(f\"Panjang tuple: {len(prodi)}\")\n",
    "\n",
    "index_isb = prodi.index(\"Information system\")\n",
    "print(f\"Prodi ISB berada pada index: {index_isb}\")"
   ]
  },
  {
   "cell_type": "markdown",
   "metadata": {
    "id": "SiOS0ttQu1em"
   },
   "source": [
    "II. List\n",
    "\n",
    "\n",
    "1.   Buatlah sebuah list berisi 3 nama makanan kesukaanmu. Simpan dalam variabel \"favorit\".\n",
    "2.   Cetak nama setiap makanan dengan mengakses setiap elemen dalam list satu persatu.\n",
    "3. Kamu sedang berada di sebuah restoran dan hendak memesan salah satu menu yang ada dalam daftar favoritmu. Cetak setiap makanan dengan contoh: \"Aku ingin pesan {nama makanan}\"\n",
    "4.   Ternyata, salah satu menu tidak tersedia, jadi kamu perlu memesan makanan lain. Ganti makanan yang kosong dengan nama makanan baru (makanan yang mana bebas)"
   ]
  },
  {
   "cell_type": "code",
   "execution_count": 24,
   "metadata": {
    "id": "9fuI3hJ7u1en"
   },
   "outputs": [
    {
     "name": "stdout",
     "output_type": "stream",
     "text": [
      "sego pecel\n",
      "sego ndog\n",
      "sego campur\n",
      "Aku ingin pesan sego pecel\n",
      "Aku ingin pesan sego ndog\n",
      "Aku ingin pesan sego campur\n",
      "['sego pecel', 'sego campur', 'sego campur']\n"
     ]
    }
   ],
   "source": [
    "makananfavorit = [\"sego pecel\", \"sego ndog\", \"sego campur\"]\n",
    "\n",
    "\n",
    "print(makananfavorit[0])  \n",
    "print(makananfavorit[1])  \n",
    "print(makananfavorit[2]) \n",
    "\n",
    "\n",
    "for makanan in makananfavorit:\n",
    "    print(f\"Aku ingin pesan {makanan}\")\n",
    "\n",
    "makananfavorit[1] = \"sego campur\"  \n",
    "\n",
    "print(makananfavorit)  \n"
   ]
  },
  {
   "cell_type": "markdown",
   "metadata": {
    "id": "YWl87pecu1en"
   },
   "source": [
    "III. Set\n",
    "\n",
    "1. Buatlah 4 buah set sebagai berikut\n",
    "\n",
    "\n",
    "    set1 = {1, 2, 3, 4}\n",
    "    set2 = {2, 4, 6, 8}\n",
    "    set3 = {5, 7}\n",
    "    set4 = {2, 3}\n",
    "2. Gabungkan set1 dan set2 dengan menghilangkan duplicates\n",
    "3. Buktikan set1 dan set3 tidak mempunyai intersection (output : Boolean)\n",
    "4. Buktikan set4 adalah bagian dari set1 (output : Boolean)"
   ]
  },
  {
   "cell_type": "code",
   "execution_count": 29,
   "metadata": {
    "colab": {
     "base_uri": "https://localhost:8080/"
    },
    "id": "Qgx8YGSpu1en",
    "outputId": "2a1b2384-4d78-4702-a8f5-b7b6e3c31c3a"
   },
   "outputs": [
    {
     "name": "stdout",
     "output_type": "stream",
     "text": [
      "[1, 2, 3, 4, 6, 8]\n",
      "True\n",
      "True\n"
     ]
    }
   ],
   "source": [
    "set1 = {1, 2, 3, 4} \n",
    "set2 = {2, 4, 6, 8} \n",
    "set3 = {5, 7} \n",
    "set4 = {2, 3}\n",
    "\n",
    "gabunglist= set1 | set2\n",
    "hasil= list(set(gabunglist))\n",
    "print(hasil)\n",
    "\n",
    "no_intersection = set1.isdisjoint(set3)\n",
    "print(no_intersection)"
   ]
  },
  {
   "cell_type": "markdown",
   "metadata": {
    "id": "uhpPy3xWu1en"
   },
   "source": [
    "<h2> Python Programming Fundamentals"
   ]
  },
  {
   "cell_type": "markdown",
   "metadata": {
    "id": "OEgpX5aYu1eo"
   },
   "source": [
    "I. Buatlah sebuah program sederhana yang meminta inputan dari user berupa jumlah penggunaan listrik dan menghasilkan output berupa tarif yang harus dibayar dengan syarat sebagai berikut:\n",
    "\n",
    "PLN menerapkan pembayaran listrik perumahan dengan perhitungan sebagai berikut:\n",
    "* untuk golongan 1 (penggunaan <1000 kWh) tarif : Rp1000/kWh\n",
    "* untuk golongan 2 (penggunaan >= 1000 kWh) tarif : Rp2000/kWh\n",
    "\n",
    "Dengan syarat perhitungan:\n",
    "\n",
    "Minimum pembayaran adalah 100 kWh sedangkan untuk pemakaian 1000 kWh dan seterusnya tarifnya ditambah 10% dari total pembayaran.\n",
    "\n",
    "(Jika total penggunaan <100 kWh, maka akan dikenakan tarif 100 kWh)"
   ]
  },
  {
   "cell_type": "code",
   "execution_count": 31,
   "metadata": {
    "colab": {
     "base_uri": "https://localhost:8080/"
    },
    "id": "Q6vIyfIdu1eo",
    "outputId": "7bc6ab7a-842a-4693-85c3-07d44f9afec2"
   },
   "outputs": [
    {
     "name": "stdout",
     "output_type": "stream",
     "text": [
      "Masukkan jumlah penggunaan listrik (kWh): 1000\n",
      "Tarif yang harus dibayar: Rp 2200000.0\n"
     ]
    }
   ],
   "source": [
    "usage = float(input(\"Masukkan jumlah penggunaan listrik (kWh): \"))\n",
    "\n",
    "\n",
    "tarif_golongan_1 = 1000  \n",
    "tarif_golongan_2 = 2000  \n",
    "\n",
    "\n",
    "minimum_usage = 100\n",
    "\n",
    "\n",
    "additional_percentage = 0.10\n",
    "\n",
    "if usage < minimum_usage:\n",
    "    usage = minimum_usage\n",
    "\n",
    "\n",
    "if usage < 1000:\n",
    "    total_payment = usage * tarif_golongan_1\n",
    "else:\n",
    "    total_payment = usage * tarif_golongan_2\n",
    "\n",
    "    \n",
    "    total_payment += total_payment * additional_percentage\n",
    "\n",
    "\n",
    "print(f\"Tarif yang harus dibayar: Rp {total_payment:.1f}\")\n"
   ]
  },
  {
   "cell_type": "markdown",
   "metadata": {
    "id": "Bqp7xI2Nu1eo"
   },
   "source": [
    "II. Untuk Abdimas Oweek UC digunakan angkot dengan kapasitas 10 orang per angkot. Apabila terjadi kelebihan penumpang (walau hanya 1 orang), angkot yang digunakan ditambah 1. Tulislah program untuk menghitung jumlah angkot yang diperlukan bila jumlah pesertanya menggunakan input().\n",
    "\n",
    "Catatan, pastikan jika angka yang dimasukkan negatif, muncul peringatan \"Jumlah orang tidak bisa negatif!\""
   ]
  },
  {
   "cell_type": "code",
   "execution_count": 32,
   "metadata": {
    "colab": {
     "base_uri": "https://localhost:8080/"
    },
    "id": "C8thFHRbu1ep",
    "outputId": "25efe7c4-23c4-4a0f-bc45-4edf47c0581a"
   },
   "outputs": [
    {
     "name": "stdout",
     "output_type": "stream",
     "text": [
      "Masukkan jumlah peserta: -1\n",
      "Jumlah orang tidak bisa negatif!\n"
     ]
    }
   ],
   "source": [
    "try:\n",
    "    jumlah_peserta = int(input(\"Masukkan jumlah peserta: \"))\n",
    "\n",
    "    \n",
    "    if jumlah_peserta < 0:\n",
    "        print(\"Jumlah orang tidak bisa negatif!\")\n",
    "    else:\n",
    "        \n",
    "        kapasitas_angkot = 10\n",
    "\n",
    "        \n",
    "        if jumlah_peserta % kapasitas_angkot == 0:\n",
    "            jumlah_angkot = jumlah_peserta // kapasitas_angkot\n",
    "        else:\n",
    "            jumlah_angkot = (jumlah_peserta // kapasitas_angkot) + 1\n",
    "\n",
    "        print(f\"Jumlah angkot yang diperlukan: {jumlah_angkot}\")\n",
    "\n",
    "except ValueError:\n",
    "    print(\"Input tidak valid! Masukkan angka yang benar.\")\n"
   ]
  },
  {
   "cell_type": "markdown",
   "metadata": {
    "id": "zmpc0H2cu1ep"
   },
   "source": [
    "<h2> Numpy"
   ]
  },
  {
   "cell_type": "markdown",
   "metadata": {
    "id": "NH_6KTdZu1ep"
   },
   "source": [
    "1. Buatlah 1D numpy array berisi nama nama hari dalam satu minggu\n",
    "2. Gunakan sort untuk mengurutkan array sesuai abjad\n",
    "3. Gunakan rand untuk mengambil 1 hari dari array, cetakhlah dalam format: \"Selamat hari \\<nama hari\\> adalah hari baikmu bulan ini!\"\n",
    "4. Buatlah matriks 3x4 menggunakan numpy array berisi angka 1-6, lalu cetak shape dan dimensi array\n",
    "5. Cetaklah elemen kolom ketiga dari matrix\n",
    "\n",
    "    [[1 ,2, 3, 4],\n",
    "\n",
    "    [5, 6, 7, 8],\n",
    "\n",
    "    [9, 10, 11, 12]]\n",
    "6. Gunakan reshape untuk mengubah matrix di atas menjadi matriks berukuran (2, 6)"
   ]
  },
  {
   "cell_type": "code",
   "execution_count": 34,
   "metadata": {
    "colab": {
     "base_uri": "https://localhost:8080/"
    },
    "id": "7u2L4rYWu1ep",
    "outputId": "7fa12946-61d8-494e-f019-f6434d1d2f9a"
   },
   "outputs": [],
   "source": [
    "# 1\n",
    "import numpy as np\n",
    "hari = np.array([\"Senin\", \"Selasa\", \"Rabu\", \"Kamis\", \"Jumat\", \"Sabtu\", \"Minggu\"])\n",
    "hari_sorted = np.sort(hari)"
   ]
  },
  {
   "cell_type": "code",
   "execution_count": 36,
   "metadata": {
    "colab": {
     "base_uri": "https://localhost:8080/"
    },
    "id": "deanH7rbNQDz",
    "outputId": "3d98e624-6678-4eb0-fbcf-51960221056c"
   },
   "outputs": [],
   "source": [
    "# 2\n",
    "hari_sorted = np.sort(hari)"
   ]
  },
  {
   "cell_type": "code",
   "execution_count": 37,
   "metadata": {
    "colab": {
     "base_uri": "https://localhost:8080/"
    },
    "id": "095nERxqIv_n",
    "outputId": "c6cbe027-e472-4fa3-ea6c-414410f99236"
   },
   "outputs": [
    {
     "name": "stdout",
     "output_type": "stream",
     "text": [
      "Selamat hari Selasa adalah hari baikmu bulan ini!\n"
     ]
    }
   ],
   "source": [
    "import random\n",
    "# 3\n",
    "hari_acak = np.random.choice(hari_sorted)\n",
    "print(f\"Selamat hari {hari_acak} adalah hari baikmu bulan ini!\")\n"
   ]
  },
  {
   "cell_type": "code",
   "execution_count": 38,
   "metadata": {
    "colab": {
     "base_uri": "https://localhost:8080/"
    },
    "id": "XB0SW-W1OQ7e",
    "outputId": "195af244-9619-4b15-c43b-138ad7ff15aa"
   },
   "outputs": [
    {
     "name": "stdout",
     "output_type": "stream",
     "text": [
      "Shape matrix 3x4: (3, 4)\n",
      "Dimensi matrix 3x4: 2\n"
     ]
    }
   ],
   "source": [
    "# 4\n",
    "matrix_3x4 = np.array([[1, 2, 3, 4],\n",
    "                       [5, 6, 1, 2],\n",
    "                       [3, 4, 5, 6]])\n",
    "print(f\"Shape matrix 3x4: {matrix_3x4.shape}\")\n",
    "print(f\"Dimensi matrix 3x4: {matrix_3x4.ndim}\")"
   ]
  },
  {
   "cell_type": "code",
   "execution_count": 39,
   "metadata": {
    "colab": {
     "base_uri": "https://localhost:8080/"
    },
    "id": "vrwOkZl2Ped9",
    "outputId": "90cb3053-20ad-4252-d535-b7d68d5112d6"
   },
   "outputs": [
    {
     "name": "stdout",
     "output_type": "stream",
     "text": [
      "Elemen kolom ketiga: [3 1 5]\n"
     ]
    }
   ],
   "source": [
    "# 5\n",
    "kolom_ketiga = matrix_3x4[:, 2]\n",
    "print(f\"Elemen kolom ketiga: {kolom_ketiga}\")"
   ]
  },
  {
   "cell_type": "code",
   "execution_count": 40,
   "metadata": {
    "colab": {
     "base_uri": "https://localhost:8080/"
    },
    "id": "2GbdDNBWSdrd",
    "outputId": "15caccdb-21cd-40cf-e250-413861b025c1"
   },
   "outputs": [
    {
     "name": "stdout",
     "output_type": "stream",
     "text": [
      "Matriks yang diubah ukurannya:\n",
      "[[1 2 3 4 5 6]\n",
      " [1 2 3 4 5 6]]\n"
     ]
    }
   ],
   "source": [
    "# 6\n",
    "matrix_2x6 = matrix_3x4.reshape(2, 6)\n",
    "print(f\"Matriks yang diubah ukurannya:\\n{matrix_2x6}\")"
   ]
  },
  {
   "cell_type": "markdown",
   "metadata": {
    "id": "IJ-xiFGCu1ep"
   },
   "source": [
    "<h2> Pandas"
   ]
  },
  {
   "cell_type": "markdown",
   "metadata": {
    "id": "W1GPuTsQu1eq"
   },
   "source": [
    "1. Buatlah Pandas Series dari list [\"Information\", \"Systems\", \"for\", \"Business\"]\n",
    "2. Buatlah Pandas Dataframe dari dictionary\n",
    "{ \"brand\": \"Ford\", \"model\": \"Mustang\", \"year\": 1964 }"
   ]
  },
  {
   "cell_type": "code",
   "execution_count": 41,
   "metadata": {
    "colab": {
     "base_uri": "https://localhost:8080/",
     "height": 178
    },
    "id": "btISSDM7u1eq",
    "outputId": "1fc6f3c7-73cc-4c5e-9ee1-5062a48ff499"
   },
   "outputs": [
    {
     "name": "stdout",
     "output_type": "stream",
     "text": [
      "0    Information\n",
      "1        Systems\n",
      "2            for\n",
      "3       Business\n",
      "dtype: object\n",
      "  brand    model  year\n",
      "0  Ford  Mustang  1964\n"
     ]
    }
   ],
   "source": [
    "import pandas as pd\n",
    "\n",
    "\n",
    "data_list = [\"Information\", \"Systems\", \"for\", \"Business\"]\n",
    "series = pd.Series(data_list)\n",
    "\n",
    "print(series)\n",
    "\n",
    "data_dict = { \"brand\": \"Ford\", \"model\": \"Mustang\", \"year\": 1964 }\n",
    "dataframe = pd.DataFrame([data_dict])\n",
    "\n",
    "print(dataframe)"
   ]
  },
  {
   "cell_type": "markdown",
   "metadata": {
    "id": "K6iLqp69u1eq"
   },
   "source": [
    "3. Import dataset berikut kedalam dataframe.    \n",
    "dataset : https://raw.githubusercontent.com/michellechandraa/TutorDataMining/main/50_Startups.csv\n",
    "4. Tunjukan kota apa saja yang ada dalam dataset tersebut\n",
    "5. Buatlah dataset baru yang menyimpan 10 row random dari dataset. Kemudian tunjukanlah 5 row pertamanya.\n",
    "6. Gunakan df.info() untuk melihat informasi singkat dari dataframe\n",
    "7. Tampilkan data 'R&D Spend' dan 'Marketing Spend' dari data yang berasal dari kota 'California'\n",
    "8. Temukan apa ada missing value dari setiap kolom\n",
    "9. Drop data yang memiliki profit di bawah 50000\n",
    "10. Urutkan Dataframe berdasarkan biaya marketing mulai dari terbesar ke terkecil"
   ]
  },
  {
   "cell_type": "code",
   "execution_count": 43,
   "metadata": {
    "colab": {
     "base_uri": "https://localhost:8080/",
     "height": 206
    },
    "id": "Zz-a6B-Au1er",
    "outputId": "b3ed8326-290e-4c50-8734-96c2aee1923a"
   },
   "outputs": [],
   "source": [
    "# 3\n",
    "import pandas as pd\n",
    "\n",
    "\n",
    "url = \"https://raw.githubusercontent.com/michellechandraa/TutorDataMining/main/50_Startups.csv\"\n",
    "df = pd.read_csv(url)\n",
    "\n"
   ]
  },
  {
   "cell_type": "code",
   "execution_count": 52,
   "metadata": {
    "colab": {
     "base_uri": "https://localhost:8080/"
    },
    "id": "8hsqamWrCimw",
    "outputId": "23353b2a-dc0a-4f7d-ba86-10116a3f46ee"
   },
   "outputs": [
    {
     "name": "stdout",
     "output_type": "stream",
     "text": [
      "Kota yang ada dalam dataset: ['New York' 'California' 'Florida']\n"
     ]
    }
   ],
   "source": [
    "# 4\n",
    "kota = df['State'].unique()\n",
    "print(\"Kota yang ada dalam dataset:\", kota)"
   ]
  },
  {
   "cell_type": "markdown",
   "metadata": {
    "id": "C4dYyX1Xoo1D"
   },
   "source": []
  },
  {
   "cell_type": "code",
   "execution_count": 45,
   "metadata": {
    "id": "xCcT75YOCmX3"
   },
   "outputs": [
    {
     "name": "stdout",
     "output_type": "stream",
     "text": [
      "\n",
      "5 row pertama dari dataset random:\n",
      "    R&D Spend  Administration  Marketing Spend       State     Profit\n",
      "27   72107.60       127864.55        353183.81    New York  105008.31\n",
      "35   46014.02        85047.44        205517.64    New York   96479.51\n",
      "40   28754.33       118546.05        172795.67  California   78239.91\n",
      "38   20229.59        65947.93        185265.10    New York   81229.06\n",
      "2   153441.51       101145.55        407934.54     Florida  191050.39\n"
     ]
    }
   ],
   "source": [
    "# 5\n",
    "df_random = df.sample(n=10, random_state=1)  # random_state untuk reproducibility\n",
    "print(\"\\n5 row pertama dari dataset random:\")\n",
    "print(df_random.head())"
   ]
  },
  {
   "cell_type": "code",
   "execution_count": 46,
   "metadata": {
    "colab": {
     "base_uri": "https://localhost:8080/"
    },
    "id": "kgHgGEVoCqGR",
    "outputId": "03ef0a1d-14b5-4342-d034-c16fc4330bb4"
   },
   "outputs": [
    {
     "name": "stdout",
     "output_type": "stream",
     "text": [
      "\n",
      "Informasi DataFrame:\n",
      "<class 'pandas.core.frame.DataFrame'>\n",
      "RangeIndex: 50 entries, 0 to 49\n",
      "Data columns (total 5 columns):\n",
      " #   Column           Non-Null Count  Dtype  \n",
      "---  ------           --------------  -----  \n",
      " 0   R&D Spend        50 non-null     float64\n",
      " 1   Administration   50 non-null     float64\n",
      " 2   Marketing Spend  50 non-null     float64\n",
      " 3   State            50 non-null     object \n",
      " 4   Profit           50 non-null     float64\n",
      "dtypes: float64(4), object(1)\n",
      "memory usage: 2.1+ KB\n",
      "None\n"
     ]
    }
   ],
   "source": [
    "# 6\n",
    "print(\"\\nInformasi DataFrame:\")\n",
    "print(df.info())"
   ]
  },
  {
   "cell_type": "code",
   "execution_count": 47,
   "metadata": {
    "colab": {
     "base_uri": "https://localhost:8080/",
     "height": 582
    },
    "id": "Mc3zul5PA2TD",
    "outputId": "180df260-6caf-42a2-f82e-a21f89263219"
   },
   "outputs": [
    {
     "name": "stdout",
     "output_type": "stream",
     "text": [
      "\n",
      "Data 'R&D Spend' dan 'Marketing Spend' dari California:\n",
      "    R&D Spend  Marketing Spend\n",
      "1   162597.70        443898.53\n",
      "6   134615.46        127716.82\n",
      "9   123334.88        304981.62\n",
      "11  100671.96        249744.55\n",
      "13   91992.39        252664.93\n",
      "16   78013.11        264346.06\n",
      "20   76253.86        298664.47\n",
      "25   64664.71        137962.62\n",
      "32   63408.86         46085.25\n",
      "34   46426.07        210797.67\n",
      "37   44069.95        197029.42\n",
      "39   38558.51        174999.30\n",
      "40   28754.33        172795.67\n",
      "42   23640.93        148001.11\n",
      "44   22177.74         28334.72\n",
      "47       0.00             0.00\n",
      "49       0.00         45173.06\n"
     ]
    }
   ],
   "source": [
    "# 7\n",
    "df_california = df[df['State'] == 'California']\n",
    "print(\"\\nData 'R&D Spend' dan 'Marketing Spend' dari California:\")\n",
    "print(df_california[['R&D Spend', 'Marketing Spend']])"
   ]
  },
  {
   "cell_type": "code",
   "execution_count": 48,
   "metadata": {
    "colab": {
     "base_uri": "https://localhost:8080/"
    },
    "id": "M1SY-gGACRy0",
    "outputId": "11db8158-14ee-484e-fd1b-93e8dcba7826"
   },
   "outputs": [
    {
     "name": "stdout",
     "output_type": "stream",
     "text": [
      "\n",
      "Missing values di setiap kolom:\n",
      "R&D Spend          0\n",
      "Administration     0\n",
      "Marketing Spend    0\n",
      "State              0\n",
      "Profit             0\n",
      "dtype: int64\n"
     ]
    }
   ],
   "source": [
    "# 8\n",
    "missing_values = df.isnull().sum()\n",
    "print(\"\\nMissing values di setiap kolom:\")\n",
    "print(missing_values)"
   ]
  },
  {
   "cell_type": "code",
   "execution_count": 49,
   "metadata": {
    "id": "XS3SV8--CeLJ"
   },
   "outputs": [
    {
     "name": "stdout",
     "output_type": "stream",
     "text": [
      "\n",
      "Data setelah menghapus row dengan profit di bawah 50.000:\n",
      "    R&D Spend  Administration  Marketing Spend       State     Profit\n",
      "0   165349.20       136897.80        471784.10    New York  192261.83\n",
      "1   162597.70       151377.59        443898.53  California  191792.06\n",
      "2   153441.51       101145.55        407934.54     Florida  191050.39\n",
      "3   144372.41       118671.85        383199.62    New York  182901.99\n",
      "4   142107.34        91391.77        366168.42     Florida  166187.94\n",
      "5   131876.90        99814.71        362861.36    New York  156991.12\n",
      "6   134615.46       147198.87        127716.82  California  156122.51\n",
      "7   130298.13       145530.06        323876.68     Florida  155752.60\n",
      "8   120542.52       148718.95        311613.29    New York  152211.77\n",
      "9   123334.88       108679.17        304981.62  California  149759.96\n",
      "10  101913.08       110594.11        229160.95     Florida  146121.95\n",
      "11  100671.96        91790.61        249744.55  California  144259.40\n",
      "12   93863.75       127320.38        249839.44     Florida  141585.52\n",
      "13   91992.39       135495.07        252664.93  California  134307.35\n",
      "14  119943.24       156547.42        256512.92     Florida  132602.65\n",
      "15  114523.61       122616.84        261776.23    New York  129917.04\n",
      "16   78013.11       121597.55        264346.06  California  126992.93\n",
      "17   94657.16       145077.58        282574.31    New York  125370.37\n",
      "18   91749.16       114175.79        294919.57     Florida  124266.90\n",
      "19   86419.70       153514.11             0.00    New York  122776.86\n",
      "20   76253.86       113867.30        298664.47  California  118474.03\n",
      "21   78389.47       153773.43        299737.29    New York  111313.02\n",
      "22   73994.56       122782.75        303319.26     Florida  110352.25\n",
      "23   67532.53       105751.03        304768.73     Florida  108733.99\n",
      "24   77044.01        99281.34        140574.81    New York  108552.04\n",
      "25   64664.71       139553.16        137962.62  California  107404.34\n",
      "26   75328.87       144135.98        134050.07     Florida  105733.54\n",
      "27   72107.60       127864.55        353183.81    New York  105008.31\n",
      "28   66051.52       182645.56        118148.20     Florida  103282.38\n",
      "29   65605.48       153032.06        107138.38    New York  101004.64\n",
      "30   61994.48       115641.28         91131.24     Florida   99937.59\n",
      "31   61136.38       152701.92         88218.23    New York   97483.56\n",
      "32   63408.86       129219.61         46085.25  California   97427.84\n",
      "33   55493.95       103057.49        214634.81     Florida   96778.92\n",
      "34   46426.07       157693.92        210797.67  California   96712.80\n",
      "35   46014.02        85047.44        205517.64    New York   96479.51\n",
      "36   28663.76       127056.21        201126.82     Florida   90708.19\n",
      "37   44069.95        51283.14        197029.42  California   89949.14\n",
      "38   20229.59        65947.93        185265.10    New York   81229.06\n",
      "39   38558.51        82982.09        174999.30  California   81005.76\n",
      "40   28754.33       118546.05        172795.67  California   78239.91\n",
      "41   27892.92        84710.77        164470.71     Florida   77798.83\n",
      "42   23640.93        96189.63        148001.11  California   71498.49\n",
      "43   15505.73       127382.30         35534.17    New York   69758.98\n",
      "44   22177.74       154806.14         28334.72  California   65200.33\n",
      "45    1000.23       124153.04          1903.93    New York   64926.08\n"
     ]
    }
   ],
   "source": [
    "# 9\n",
    "df_filtered = df[df['Profit'] >= 50000]\n",
    "print(\"\\nData setelah menghapus row dengan profit di bawah 50.000:\")\n",
    "print(df_filtered)"
   ]
  },
  {
   "cell_type": "code",
   "execution_count": 50,
   "metadata": {
    "colab": {
     "base_uri": "https://localhost:8080/",
     "height": 206
    },
    "id": "mbt-zuboEm3A",
    "outputId": "fee8ae28-6e5c-4dfe-efeb-e0bdb4117d1d"
   },
   "outputs": [
    {
     "name": "stdout",
     "output_type": "stream",
     "text": [
      "\n",
      "DataFrame diurutkan berdasarkan biaya marketing:\n",
      "    R&D Spend  Administration  Marketing Spend       State     Profit\n",
      "0   165349.20       136897.80        471784.10    New York  192261.83\n",
      "1   162597.70       151377.59        443898.53  California  191792.06\n",
      "2   153441.51       101145.55        407934.54     Florida  191050.39\n",
      "3   144372.41       118671.85        383199.62    New York  182901.99\n",
      "4   142107.34        91391.77        366168.42     Florida  166187.94\n",
      "5   131876.90        99814.71        362861.36    New York  156991.12\n",
      "27   72107.60       127864.55        353183.81    New York  105008.31\n",
      "7   130298.13       145530.06        323876.68     Florida  155752.60\n",
      "8   120542.52       148718.95        311613.29    New York  152211.77\n",
      "9   123334.88       108679.17        304981.62  California  149759.96\n",
      "23   67532.53       105751.03        304768.73     Florida  108733.99\n",
      "22   73994.56       122782.75        303319.26     Florida  110352.25\n",
      "21   78389.47       153773.43        299737.29    New York  111313.02\n",
      "20   76253.86       113867.30        298664.47  California  118474.03\n",
      "18   91749.16       114175.79        294919.57     Florida  124266.90\n",
      "17   94657.16       145077.58        282574.31    New York  125370.37\n",
      "16   78013.11       121597.55        264346.06  California  126992.93\n",
      "15  114523.61       122616.84        261776.23    New York  129917.04\n",
      "14  119943.24       156547.42        256512.92     Florida  132602.65\n",
      "13   91992.39       135495.07        252664.93  California  134307.35\n",
      "12   93863.75       127320.38        249839.44     Florida  141585.52\n",
      "11  100671.96        91790.61        249744.55  California  144259.40\n",
      "10  101913.08       110594.11        229160.95     Florida  146121.95\n",
      "33   55493.95       103057.49        214634.81     Florida   96778.92\n",
      "34   46426.07       157693.92        210797.67  California   96712.80\n",
      "35   46014.02        85047.44        205517.64    New York   96479.51\n",
      "36   28663.76       127056.21        201126.82     Florida   90708.19\n",
      "37   44069.95        51283.14        197029.42  California   89949.14\n",
      "38   20229.59        65947.93        185265.10    New York   81229.06\n",
      "39   38558.51        82982.09        174999.30  California   81005.76\n",
      "40   28754.33       118546.05        172795.67  California   78239.91\n",
      "41   27892.92        84710.77        164470.71     Florida   77798.83\n",
      "42   23640.93        96189.63        148001.11  California   71498.49\n",
      "24   77044.01        99281.34        140574.81    New York  108552.04\n",
      "25   64664.71       139553.16        137962.62  California  107404.34\n",
      "26   75328.87       144135.98        134050.07     Florida  105733.54\n",
      "6   134615.46       147198.87        127716.82  California  156122.51\n",
      "28   66051.52       182645.56        118148.20     Florida  103282.38\n",
      "29   65605.48       153032.06        107138.38    New York  101004.64\n",
      "30   61994.48       115641.28         91131.24     Florida   99937.59\n",
      "31   61136.38       152701.92         88218.23    New York   97483.56\n",
      "32   63408.86       129219.61         46085.25  California   97427.84\n",
      "43   15505.73       127382.30         35534.17    New York   69758.98\n",
      "44   22177.74       154806.14         28334.72  California   65200.33\n",
      "45    1000.23       124153.04          1903.93    New York   64926.08\n",
      "19   86419.70       153514.11             0.00    New York  122776.86\n"
     ]
    }
   ],
   "source": [
    "# 10\n",
    "df_sorted = df_filtered.sort_values(by='Marketing Spend', ascending=False)\n",
    "print(\"\\nDataFrame diurutkan berdasarkan biaya marketing:\")\n",
    "print(df_sorted)"
   ]
  },
  {
   "cell_type": "markdown",
   "metadata": {
    "id": "4OfOaA0xu1er"
   },
   "source": [
    "<h2> Data Cleaning"
   ]
  },
  {
   "cell_type": "markdown",
   "metadata": {
    "id": "Krb_r6quu1es"
   },
   "source": [
    "1. Import dataset berikut ke dalam dataframe.   \n",
    "   dataset : https://raw.githubusercontent.com/michellechandraa/TutorDataMining/main/real_estate.csv\n",
    "2. Tampilkan 10 data random dari dataset di atas\n",
    "3. Cari informasi data dengan menggunakan fungsi describe\n",
    "4. Hapus kolom 'No' dan ubahlah nama kolom dalam dataframe menjadi 'transaction date', 'house age', 'distance to the nearest MRT station', 'number of convinience stores', 'latitude', 'longitude', 'house price of unit area'\n",
    "5. Cek apakah ada missing values dari masing-masing kolom"
   ]
  },
  {
   "cell_type": "code",
   "execution_count": 53,
   "metadata": {
    "colab": {
     "base_uri": "https://localhost:8080/",
     "height": 224
    },
    "id": "NAl8hGLHu1es",
    "outputId": "a7652a6c-aca9-496b-d8df-3f41895c9895"
   },
   "outputs": [],
   "source": [
    "# 1\n",
    "url = \"https://raw.githubusercontent.com/michellechandraa/TutorDataMining/main/real_estate.csv\"\n",
    "df = pd.read_csv(url)"
   ]
  },
  {
   "cell_type": "code",
   "execution_count": 54,
   "metadata": {
    "colab": {
     "base_uri": "https://localhost:8080/",
     "height": 380
    },
    "id": "YWjZAHGdFXhK",
    "outputId": "fd7cfc89-99b2-49aa-e0ff-f3ada9e4b161"
   },
   "outputs": [
    {
     "name": "stdout",
     "output_type": "stream",
     "text": [
      "10 data random dari dataset:\n",
      "      No  X1 transaction date  X2 house age  \\\n",
      "388  389             2013.500          10.4   \n",
      "102  103             2013.083           1.1   \n",
      "187  188             2013.000           8.9   \n",
      "162  163             2012.750          16.0   \n",
      "90    91             2012.833           0.0   \n",
      "398  399             2013.417          14.7   \n",
      "295  296             2013.167          18.2   \n",
      "397  398             2013.417          13.1   \n",
      "17    18             2012.750          17.7   \n",
      "58    59             2013.500          30.3   \n",
      "\n",
      "     X3 distance to the nearest MRT station  X4 number of convenience stores  \\\n",
      "388                               2251.9380                                4   \n",
      "102                                193.5845                                6   \n",
      "187                               3078.1760                                0   \n",
      "162                               4066.5870                                0   \n",
      "90                                 274.0144                                1   \n",
      "398                               1717.1930                                2   \n",
      "295                               2179.5900                                3   \n",
      "397                               1164.8380                                4   \n",
      "17                                 350.8515                                1   \n",
      "58                                4510.3590                                1   \n",
      "\n",
      "     X5 latitude  X6 longitude  Y house price of unit area  \n",
      "388     24.95957     121.51353                        27.3  \n",
      "102     24.96571     121.54089                        54.4  \n",
      "187     24.95464     121.56627                        22.0  \n",
      "162     24.94297     121.50342                        11.6  \n",
      "90      24.97480     121.53059                        45.4  \n",
      "398     24.96447     121.51649                        23.0  \n",
      "295     24.96299     121.51252                        21.8  \n",
      "397     24.99156     121.53406                        32.2  \n",
      "17      24.97544     121.53119                        37.4  \n",
      "58      24.94925     121.49542                        22.6  \n"
     ]
    }
   ],
   "source": [
    "# 2\n",
    "print(\"10 data random dari dataset:\")\n",
    "print(df.sample(n=10, random_state=1))"
   ]
  },
  {
   "cell_type": "code",
   "execution_count": 55,
   "metadata": {
    "colab": {
     "base_uri": "https://localhost:8080/",
     "height": 318
    },
    "id": "WYXICVmkFgAo",
    "outputId": "865a4c7c-da4f-4e1d-d2fd-cc131df30e8d"
   },
   "outputs": [
    {
     "name": "stdout",
     "output_type": "stream",
     "text": [
      "\n",
      "Informasi statistik dari data:\n",
      "               No  X1 transaction date  X2 house age  \\\n",
      "count  414.000000           414.000000    414.000000   \n",
      "mean   207.500000          2013.148971     17.712560   \n",
      "std    119.655756             0.281967     11.392485   \n",
      "min      1.000000          2012.667000      0.000000   \n",
      "25%    104.250000          2012.917000      9.025000   \n",
      "50%    207.500000          2013.167000     16.100000   \n",
      "75%    310.750000          2013.417000     28.150000   \n",
      "max    414.000000          2013.583000     43.800000   \n",
      "\n",
      "       X3 distance to the nearest MRT station  \\\n",
      "count                              414.000000   \n",
      "mean                              1083.885689   \n",
      "std                               1262.109595   \n",
      "min                                 23.382840   \n",
      "25%                                289.324800   \n",
      "50%                                492.231300   \n",
      "75%                               1454.279000   \n",
      "max                               6488.021000   \n",
      "\n",
      "       X4 number of convenience stores  X5 latitude  X6 longitude  \\\n",
      "count                       414.000000   414.000000    414.000000   \n",
      "mean                          4.094203    24.969030    121.533361   \n",
      "std                           2.945562     0.012410      0.015347   \n",
      "min                           0.000000    24.932070    121.473530   \n",
      "25%                           1.000000    24.963000    121.528085   \n",
      "50%                           4.000000    24.971100    121.538630   \n",
      "75%                           6.000000    24.977455    121.543305   \n",
      "max                          10.000000    25.014590    121.566270   \n",
      "\n",
      "       Y house price of unit area  \n",
      "count                  414.000000  \n",
      "mean                    37.980193  \n",
      "std                     13.606488  \n",
      "min                      7.600000  \n",
      "25%                     27.700000  \n",
      "50%                     38.450000  \n",
      "75%                     46.600000  \n",
      "max                    117.500000  \n"
     ]
    }
   ],
   "source": [
    "# 3\n",
    "print(\"\\nInformasi statistik dari data:\")\n",
    "print(df.describe())"
   ]
  },
  {
   "cell_type": "code",
   "execution_count": 56,
   "metadata": {
    "colab": {
     "base_uri": "https://localhost:8080/",
     "height": 206
    },
    "id": "v1scoJ2bFraH",
    "outputId": "d2e4f8d1-bb95-4ad3-9d25-afd119922c2c"
   },
   "outputs": [
    {
     "name": "stdout",
     "output_type": "stream",
     "text": [
      "\n",
      "DataFrame setelah menghapus kolom dan mengubah nama kolom:\n",
      "   transaction date  house age  distance to the nearest MRT station  \\\n",
      "0          2012.917       32.0                             84.87882   \n",
      "1          2012.917       19.5                            306.59470   \n",
      "2          2013.583       13.3                            561.98450   \n",
      "3          2013.500       13.3                            561.98450   \n",
      "4          2012.833        5.0                            390.56840   \n",
      "\n",
      "   number of convenience stores  latitude  longitude  house price of unit area  \n",
      "0                            10  24.98298  121.54024                      37.9  \n",
      "1                             9  24.98034  121.53951                      42.2  \n",
      "2                             5  24.98746  121.54391                      47.3  \n",
      "3                             5  24.98746  121.54391                      54.8  \n",
      "4                             5  24.97937  121.54245                      43.1  \n"
     ]
    }
   ],
   "source": [
    "# 4\n",
    "df = df.drop(columns=['No'])\n",
    "df.columns = ['transaction date', 'house age', 'distance to the nearest MRT station', \n",
    "              'number of convenience stores', 'latitude', 'longitude', 'house price of unit area']\n",
    "\n",
    "print(\"\\nDataFrame setelah menghapus kolom dan mengubah nama kolom:\")\n",
    "print(df.head())"
   ]
  },
  {
   "cell_type": "code",
   "execution_count": 58,
   "metadata": {
    "colab": {
     "base_uri": "https://localhost:8080/",
     "height": 304
    },
    "id": "O_EVut8-GE7b",
    "outputId": "b64aac05-96e3-423d-ac17-a06bb9316fe0"
   },
   "outputs": [
    {
     "name": "stdout",
     "output_type": "stream",
     "text": [
      "\n",
      "Missing values di setiap kolom:\n",
      "transaction date                       0\n",
      "house age                              0\n",
      "distance to the nearest MRT station    0\n",
      "number of convenience stores           0\n",
      "latitude                               0\n",
      "longitude                              0\n",
      "house price of unit area               0\n",
      "dtype: int64\n"
     ]
    }
   ],
   "source": [
    "# 5\n",
    "missing_values = df.isnull().sum()\n",
    "print(\"\\nMissing values di setiap kolom:\")\n",
    "print(missing_values)"
   ]
  },
  {
   "cell_type": "markdown",
   "metadata": {
    "id": "0USQVpcWuJTz"
   },
   "source": [
    "## **Goodluck :)**\n"
   ]
  }
 ],
 "metadata": {
  "colab": {
   "provenance": []
  },
  "kernelspec": {
   "display_name": "Python 3 (ipykernel)",
   "language": "python",
   "name": "python3"
  },
  "language_info": {
   "codemirror_mode": {
    "name": "ipython",
    "version": 3
   },
   "file_extension": ".py",
   "mimetype": "text/x-python",
   "name": "python",
   "nbconvert_exporter": "python",
   "pygments_lexer": "ipython3",
   "version": "3.11.4"
  }
 },
 "nbformat": 4,
 "nbformat_minor": 1
}
